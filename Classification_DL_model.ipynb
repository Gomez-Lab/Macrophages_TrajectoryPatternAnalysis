{
  "nbformat": 4,
  "nbformat_minor": 0,
  "metadata": {
    "colab": {
      "provenance": []
    },
    "kernelspec": {
      "name": "python3",
      "display_name": "Python 3"
    },
    "language_info": {
      "name": "python"
    }
  },
  "cells": [
    {
      "cell_type": "code",
      "execution_count": null,
      "metadata": {
        "id": "ouARzlydZWFF"
      },
      "outputs": [],
      "source": [
        "from matplotlib import pyplot as plt\n",
        "import pandas as pd\n",
        "import numpy as np\n",
        "import seaborn as sns"
      ]
    },
    {
      "cell_type": "code",
      "source": [
        "from google.colab import drive\n",
        "drive.mount('/content/drive')"
      ],
      "metadata": {
        "colab": {
          "base_uri": "https://localhost:8080/"
        },
        "id": "JdTlRnkwZjU2",
        "outputId": "935e536f-6278-4b3d-c612-54236a6f3011"
      },
      "execution_count": null,
      "outputs": [
        {
          "output_type": "stream",
          "name": "stdout",
          "text": [
            "Mounted at /content/drive\n"
          ]
        }
      ]
    },
    {
      "cell_type": "code",
      "source": [
        "dfData = pd.read_pickle(\"/content/drive/My Drive/Macrophages_MigratoryPatterns_DL/clusters_withFeatures.txt\")\n",
        "dfData = dfData[dfData.pattern != 'Mix']\n",
        "\n",
        "#tuples (x,y)\n",
        "tup1 = []\n",
        "for i in range(len(dfData)):\n",
        "    tupxy = [];\n",
        "    ##Normalize values\n",
        "    x_vals = dfData.traj[i][0]\n",
        "    x_vals -= np.mean(x_vals)\n",
        "    x_vals /= np.std(x_vals)\n",
        "\n",
        "    y_vals = dfData.traj[i][1]\n",
        "    y_vals -= np.mean(y_vals)\n",
        "    y_vals /= np.std(y_vals)\n",
        "\n",
        "    pers_vals = dfData.traj[i][2]\n",
        "    pers_vals -= np.mean(pers_vals)\n",
        "    pers_vals /= np.std(pers_vals)\n",
        "\n",
        "    dist_vals = dfData.traj[i][3]\n",
        "    dist_vals -= np.mean(dist_vals)\n",
        "    dist_vals /= np.std(dist_vals)\n",
        "\n",
        "    for k in range(len(dfData.traj[0][0])-1):\n",
        "        tupxy.append((x_vals[k],y_vals[k], pers_vals[k], dist_vals[k]))\n",
        "\n",
        "        #tupxy.append((dfData.traj[i][0][k],dfData.traj[i][1][k],dfData.traj[i][2][k],dfData.traj[i][3][k]))\n",
        "    tup1.append(tupxy)\n",
        "\n",
        "\n",
        "dfData['tup_traj'] = tup1\n",
        "\n",
        "\n",
        "dfnn = dfData.drop(labels = ['traj','patternNo'],axis =1) #'parentImg'\n",
        "\n",
        "\n",
        "sns.countplot(x='pattern', data =dfnn)"
      ],
      "metadata": {
        "colab": {
          "base_uri": "https://localhost:8080/",
          "height": 296
        },
        "id": "B7YELMiIodFs",
        "outputId": "5c1dcf06-f7e9-46d5-8022-043a6f7fedb8"
      },
      "execution_count": null,
      "outputs": [
        {
          "output_type": "execute_result",
          "data": {
            "text/plain": [
              "<AxesSubplot:xlabel='pattern', ylabel='count'>"
            ]
          },
          "metadata": {},
          "execution_count": 6
        },
        {
          "output_type": "display_data",
          "data": {
            "text/plain": [
              "<Figure size 432x288 with 1 Axes>"
            ],
            "image/png": "[encoded data removed]"
          },
          "metadata": {
            "needs_background": "light"
          }
        }
      ]
    },
    {
      "cell_type": "code",
      "source": [
        "trajs_list = dfnn['tup_traj'].values.tolist() # convert the dataframe column to list\n",
        "trajs = np.array(trajs_list)\n",
        "traj_labels = dfnn['pattern']\n"
      ],
      "metadata": {
        "id": "mYkUrdl7pBkZ"
      },
      "execution_count": null,
      "outputs": []
    },
    {
      "cell_type": "code",
      "source": [
        "#data augmentation\n",
        "ntrajs = []\n",
        "ntraj_labels = []\n",
        "\n",
        "\n",
        "for cl in trajs :\n",
        "    temp_aug = []\n",
        "    for a in range(8):\n",
        "        temp_aug.append([])\n",
        "    for co in cl :\n",
        "        temp_aug[0].append((co[0],co[1], co[2], co[3]))  #(x,y)\n",
        "        temp_aug[1].append((co[1],co[0], co[2], co[3]))  #(y,x)\n",
        "        temp_aug[2].append((-co[0],co[1], co[2], co[3])) #(-x,y)\n",
        "        temp_aug[3].append((-co[0],-co[1], co[2], co[3])) #(-x,-y)\n",
        "        temp_aug[4].append((co[0],-co[1], co[2], co[3])) #(x,-y)\n",
        "\n",
        "        temp_aug[5].append((-co[1],co[0], co[2], co[3])) #(-y,x)\n",
        "        temp_aug[6].append((-co[1],-co[0], co[2], co[3])) #(-y,-x)\n",
        "        temp_aug[7].append((co[1],-co[0], co[2], co[3])) #(y,-x)\n",
        "    for ma in temp_aug :\n",
        "        ntrajs.append(ma)\n",
        "\n",
        "for a in range(len(trajs)):\n",
        "    for b in range(8):\n",
        "        ntraj_labels.append(traj_labels[a])\n",
        "\n",
        "ntrajs = np.array(ntrajs)\n",
        "ntraj_labels = np.array(ntraj_labels)\n",
        "\n",
        "sns.countplot(ntraj_labels, data =dfnn)"
      ],
      "metadata": {
        "colab": {
          "base_uri": "https://localhost:8080/",
          "height": 337
        },
        "id": "-nV7IdtxpLQG",
        "outputId": "51376dc8-179e-46af-e6be-c3ba6b5ddf4f"
      },
      "execution_count": null,
      "outputs": [
        {
          "output_type": "stream",
          "name": "stderr",
          "text": [
            "/usr/local/lib/python3.8/dist-packages/seaborn/_decorators.py:36: FutureWarning: Pass the following variable as a keyword arg: x. From version 0.12, the only valid positional argument will be `data`, and passing other arguments without an explicit keyword will result in an error or misinterpretation.\n",
            "  warnings.warn(\n"
          ]
        },
        {
          "output_type": "execute_result",
          "data": {
            "text/plain": [
              "<AxesSubplot:ylabel='count'>"
            ]
          },
          "metadata": {},
          "execution_count": 8
        },
        {
          "output_type": "display_data",
          "data": {
            "text/plain": [
              "<Figure size 432x288 with 1 Axes>"
            ],
            "image/png": "[encoded data removed]"
          },
          "metadata": {
            "needs_background": "light"
          }
        }
      ]
    },
    {
      "cell_type": "code",
      "source": [
        "\n",
        "#Deep learnining model\n",
        "from sklearn.utils import shuffle\n",
        "\n",
        "#shuffle the training data to improve the val accuracy scoere -- Used instead of #np.random.shuffle(rank_3_tensor_train)\n",
        "all_data, all_labels = shuffle(ntrajs, ntraj_labels, random_state=42)\n",
        "\n",
        "\n",
        "#Split train:test = 80:20\n",
        "from sklearn.model_selection import train_test_split\n",
        "x_train, x_test, y_train, y_test = train_test_split(all_data, all_labels, test_size=0.2, random_state=42)\n",
        "\n",
        "#Change the string labels to float\n",
        "from sklearn import preprocessing\n",
        "le = preprocessing.LabelEncoder()\n",
        "y_train_encoded = le.fit_transform(y_train)\n",
        "y_test_encoded = le.fit_transform(y_test)\n",
        "\n",
        "#One hot encode y values for neural network.\n",
        "from keras.utils import to_categorical\n",
        "y_train_one_hot = to_categorical(y_train_encoded)\n",
        "y_test_one_hot = to_categorical(y_test_encoded)\n",
        "\n",
        "##Fit data to model and split train to validation\n",
        "x_val = x_train[:100]\n",
        "partial_x_train = x_train[100:]\n",
        "\n",
        "y_val = y_train_one_hot[:100]\n",
        "partial_y_train = y_train_one_hot[100:]\n",
        "\n"
      ],
      "metadata": {
        "id": "0adqlG9WpQCj"
      },
      "execution_count": null,
      "outputs": []
    },
    {
      "cell_type": "code",
      "source": [
        "#Model\n",
        "from keras.models import Model, Sequential\n",
        "from keras.layers import Dense, Flatten, Conv2D, MaxPooling2D, Dropout\n",
        "\n",
        "\n",
        "def build_model():\n",
        "    feature_extractor = Sequential()\n",
        "    feature_extractor.add(Dense(10, activation='relu',kernel_initializer='he_uniform',  input_shape=(36,4)))\n",
        "    feature_extractor.add(Dense(20, kernel_initializer='he_uniform', activation='relu'))\n",
        "    feature_extractor.add(Dense(32, kernel_initializer='he_uniform', activation='relu'))\n",
        "    feature_extractor.add(Dense(64, kernel_initializer='he_uniform', activation='relu'))\n",
        "    feature_extractor.add(Dense(64, kernel_initializer='he_uniform', activation='relu'))\n",
        "    feature_extractor.add(Dense(32, kernel_initializer='he_uniform', activation='relu'))\n",
        "    feature_extractor.add(Dense(20, kernel_initializer='he_uniform', activation='relu'))\n",
        "    feature_extractor.add(Dense(10, kernel_initializer='he_uniform', activation='relu'))\n",
        "    feature_extractor.add(Flatten())\n",
        "    x = feature_extractor.output\n",
        "\n",
        "    prediction_layer = Dense(3, activation = 'softmax')(x)\n",
        "\n",
        "    cnn_model = Model(inputs=feature_extractor.input, outputs=prediction_layer)\n",
        "    cnn_model.compile(optimizer='rmsprop',loss = 'categorical_crossentropy', metrics = ['accuracy'])\n",
        "    print(cnn_model.summary())\n",
        "    return cnn_model\n"
      ],
      "metadata": {
        "id": "RITuPkrtpV_0"
      },
      "execution_count": null,
      "outputs": []
    },
    {
      "cell_type": "code",
      "source": [
        "model =  build_model()\n",
        "history = model.fit(partial_x_train, partial_y_train, epochs=100, validation_data = (x_val, y_val))\n"
      ],
      "metadata": {
        "colab": {
          "base_uri": "https://localhost:8080/"
        },
        "id": "WhBgrEkTpfzE",
        "outputId": "7d874878-f35b-4459-f8f6-c2323c79152b"
      },
      "execution_count": null,
      "outputs": [
        {
          "output_type": "stream",
          "name": "stdout",
          "text": [
            "Model: \"model\"\n",
            "_________________________________________________________________\n",
            " Layer (type)                Output Shape              Param #   \n",
            "=================================================================\n",
            " dense_input (InputLayer)    [(None, 36, 4)]           0         \n",
            "                                                                 \n",
            " dense (Dense)               (None, 36, 10)            50        \n",
            "                                                                 \n",
            " dense_1 (Dense)             (None, 36, 20)            220       \n",
            "                                                                 \n",
            " dense_2 (Dense)             (None, 36, 32)            672       \n",
            "                                                                 \n",
            " dense_3 (Dense)             (None, 36, 64)            2112      \n",
            "                                                                 \n",
            " dense_4 (Dense)             (None, 36, 64)            4160      \n",
            "                                                                 \n",
            " dense_5 (Dense)             (None, 36, 32)            2080      \n",
            "                                                                 \n",
            " dense_6 (Dense)             (None, 36, 20)            660       \n",
            "                                                                 \n",
            " dense_7 (Dense)             (None, 36, 10)            210       \n",
            "                                                                 \n",
            " flatten (Flatten)           (None, 360)               0         \n",
            "                                                                 \n",
            " dense_8 (Dense)             (None, 3)                 1083      \n",
            "                                                                 \n",
            "=================================================================\n",
            "Total params: 11,247\n",
            "Trainable params: 11,247\n",
            "Non-trainable params: 0\n",
            "_________________________________________________________________\n",
            "None\n",
            "Epoch 1/100\n",
            "11/11 [==============================] - 3s 89ms/step - loss: 1.2487 - accuracy: 0.4080 - val_loss: 1.0221 - val_accuracy: 0.4500\n",
            "Epoch 2/100\n",
            "11/11 [==============================] - 0s 18ms/step - loss: 1.0086 - accuracy: 0.5115 - val_loss: 1.0020 - val_accuracy: 0.4700\n",
            "Epoch 3/100\n",
            "11/11 [==============================] - 0s 18ms/step - loss: 0.9567 - accuracy: 0.5517 - val_loss: 0.9383 - val_accuracy: 0.5300\n",
            "Epoch 4/100\n",
            "11/11 [==============================] - 0s 17ms/step - loss: 0.8864 - accuracy: 0.6207 - val_loss: 0.9039 - val_accuracy: 0.5800\n",
            "Epoch 5/100\n",
            "11/11 [==============================] - 0s 17ms/step - loss: 0.8076 - accuracy: 0.6494 - val_loss: 0.8137 - val_accuracy: 0.6100\n",
            "Epoch 6/100\n",
            "11/11 [==============================] - 0s 21ms/step - loss: 0.7223 - accuracy: 0.7011 - val_loss: 0.7906 - val_accuracy: 0.6300\n",
            "Epoch 7/100\n",
            "11/11 [==============================] - 0s 19ms/step - loss: 0.6287 - accuracy: 0.7443 - val_loss: 0.6790 - val_accuracy: 0.7200\n",
            "Epoch 8/100\n",
            "11/11 [==============================] - 0s 18ms/step - loss: 0.5271 - accuracy: 0.7960 - val_loss: 0.6256 - val_accuracy: 0.7500\n",
            "Epoch 9/100\n",
            "11/11 [==============================] - 0s 18ms/step - loss: 0.4560 - accuracy: 0.8276 - val_loss: 0.5724 - val_accuracy: 0.7900\n",
            "Epoch 10/100\n",
            "11/11 [==============================] - 0s 20ms/step - loss: 0.3745 - accuracy: 0.8678 - val_loss: 0.4918 - val_accuracy: 0.8400\n",
            "Epoch 11/100\n",
            "11/11 [==============================] - 0s 25ms/step - loss: 0.2922 - accuracy: 0.9195 - val_loss: 0.5229 - val_accuracy: 0.7700\n",
            "Epoch 12/100\n",
            "11/11 [==============================] - 0s 22ms/step - loss: 0.2509 - accuracy: 0.9282 - val_loss: 0.4551 - val_accuracy: 0.8000\n",
            "Epoch 13/100\n",
            "11/11 [==============================] - 0s 21ms/step - loss: 0.1929 - accuracy: 0.9598 - val_loss: 0.4125 - val_accuracy: 0.7800\n",
            "Epoch 14/100\n",
            "11/11 [==============================] - 0s 13ms/step - loss: 0.1519 - accuracy: 0.9540 - val_loss: 0.3902 - val_accuracy: 0.8200\n",
            "Epoch 15/100\n",
            "11/11 [==============================] - 0s 13ms/step - loss: 0.1176 - accuracy: 0.9799 - val_loss: 0.3526 - val_accuracy: 0.8500\n",
            "Epoch 16/100\n",
            "11/11 [==============================] - 0s 13ms/step - loss: 0.0874 - accuracy: 0.9885 - val_loss: 0.4054 - val_accuracy: 0.8600\n",
            "Epoch 17/100\n",
            "11/11 [==============================] - 0s 13ms/step - loss: 0.0656 - accuracy: 0.9885 - val_loss: 0.4063 - val_accuracy: 0.8100\n",
            "Epoch 18/100\n",
            "11/11 [==============================] - 0s 14ms/step - loss: 0.0466 - accuracy: 1.0000 - val_loss: 0.3210 - val_accuracy: 0.8900\n",
            "Epoch 19/100\n",
            "11/11 [==============================] - 0s 14ms/step - loss: 0.0379 - accuracy: 1.0000 - val_loss: 0.2730 - val_accuracy: 0.9300\n",
            "Epoch 20/100\n",
            "11/11 [==============================] - 0s 14ms/step - loss: 0.0230 - accuracy: 1.0000 - val_loss: 0.2979 - val_accuracy: 0.9300\n",
            "Epoch 21/100\n",
            "11/11 [==============================] - 0s 18ms/step - loss: 0.0336 - accuracy: 0.9971 - val_loss: 0.2664 - val_accuracy: 0.9200\n",
            "Epoch 22/100\n",
            "11/11 [==============================] - 0s 13ms/step - loss: 0.0087 - accuracy: 1.0000 - val_loss: 0.2903 - val_accuracy: 0.9200\n",
            "Epoch 23/100\n",
            "11/11 [==============================] - 0s 15ms/step - loss: 0.0068 - accuracy: 1.0000 - val_loss: 0.3049 - val_accuracy: 0.9100\n",
            "Epoch 24/100\n",
            "11/11 [==============================] - 0s 14ms/step - loss: 0.0055 - accuracy: 1.0000 - val_loss: 0.3772 - val_accuracy: 0.8800\n",
            "Epoch 25/100\n",
            "11/11 [==============================] - 0s 13ms/step - loss: 0.0156 - accuracy: 0.9971 - val_loss: 0.3276 - val_accuracy: 0.9200\n",
            "Epoch 26/100\n",
            "11/11 [==============================] - 0s 14ms/step - loss: 0.0051 - accuracy: 1.0000 - val_loss: 0.2677 - val_accuracy: 0.9200\n",
            "Epoch 27/100\n",
            "11/11 [==============================] - 0s 14ms/step - loss: 0.0017 - accuracy: 1.0000 - val_loss: 0.2772 - val_accuracy: 0.9500\n",
            "Epoch 28/100\n",
            "11/11 [==============================] - 0s 12ms/step - loss: 0.0014 - accuracy: 1.0000 - val_loss: 0.3579 - val_accuracy: 0.9100\n",
            "Epoch 29/100\n",
            "11/11 [==============================] - 0s 12ms/step - loss: 0.0128 - accuracy: 0.9971 - val_loss: 0.3286 - val_accuracy: 0.9400\n",
            "Epoch 30/100\n",
            "11/11 [==============================] - 0s 13ms/step - loss: 0.0018 - accuracy: 1.0000 - val_loss: 0.3154 - val_accuracy: 0.9100\n",
            "Epoch 31/100\n",
            "11/11 [==============================] - 0s 13ms/step - loss: 9.0698e-04 - accuracy: 1.0000 - val_loss: 0.3045 - val_accuracy: 0.9400\n",
            "Epoch 32/100\n",
            "11/11 [==============================] - 0s 12ms/step - loss: 6.6079e-04 - accuracy: 1.0000 - val_loss: 0.3116 - val_accuracy: 0.9200\n",
            "Epoch 33/100\n",
            "11/11 [==============================] - 0s 13ms/step - loss: 5.3319e-04 - accuracy: 1.0000 - val_loss: 0.3026 - val_accuracy: 0.9300\n",
            "Epoch 34/100\n",
            "11/11 [==============================] - 0s 12ms/step - loss: 5.3545e-04 - accuracy: 1.0000 - val_loss: 0.3143 - val_accuracy: 0.9300\n",
            "Epoch 35/100\n",
            "11/11 [==============================] - 0s 14ms/step - loss: 3.6576e-04 - accuracy: 1.0000 - val_loss: 0.3519 - val_accuracy: 0.9200\n",
            "Epoch 36/100\n",
            "11/11 [==============================] - 0s 14ms/step - loss: 2.2755e-04 - accuracy: 1.0000 - val_loss: 0.4749 - val_accuracy: 0.9000\n",
            "Epoch 37/100\n",
            "11/11 [==============================] - 0s 15ms/step - loss: 0.0052 - accuracy: 0.9971 - val_loss: 0.3599 - val_accuracy: 0.9300\n",
            "Epoch 38/100\n",
            "11/11 [==============================] - 0s 13ms/step - loss: 2.6112e-04 - accuracy: 1.0000 - val_loss: 0.3526 - val_accuracy: 0.9300\n",
            "Epoch 39/100\n",
            "11/11 [==============================] - 0s 14ms/step - loss: 1.5909e-04 - accuracy: 1.0000 - val_loss: 0.3498 - val_accuracy: 0.9300\n",
            "Epoch 40/100\n",
            "11/11 [==============================] - 0s 13ms/step - loss: 1.1563e-04 - accuracy: 1.0000 - val_loss: 0.3482 - val_accuracy: 0.9400\n",
            "Epoch 41/100\n",
            "11/11 [==============================] - 0s 16ms/step - loss: 8.7055e-05 - accuracy: 1.0000 - val_loss: 0.3561 - val_accuracy: 0.9300\n",
            "Epoch 42/100\n",
            "11/11 [==============================] - 0s 13ms/step - loss: 6.9137e-05 - accuracy: 1.0000 - val_loss: 0.3524 - val_accuracy: 0.9400\n",
            "Epoch 43/100\n",
            "11/11 [==============================] - 0s 15ms/step - loss: 6.2502e-05 - accuracy: 1.0000 - val_loss: 0.3490 - val_accuracy: 0.9400\n",
            "Epoch 44/100\n",
            "11/11 [==============================] - 0s 13ms/step - loss: 5.0235e-05 - accuracy: 1.0000 - val_loss: 0.3688 - val_accuracy: 0.9400\n",
            "Epoch 45/100\n",
            "11/11 [==============================] - 0s 14ms/step - loss: 4.3764e-05 - accuracy: 1.0000 - val_loss: 0.3721 - val_accuracy: 0.9300\n",
            "Epoch 46/100\n",
            "11/11 [==============================] - 0s 14ms/step - loss: 4.2746e-05 - accuracy: 1.0000 - val_loss: 0.3609 - val_accuracy: 0.9400\n",
            "Epoch 47/100\n",
            "11/11 [==============================] - 0s 15ms/step - loss: 2.7433e-05 - accuracy: 1.0000 - val_loss: 0.3690 - val_accuracy: 0.9400\n",
            "Epoch 48/100\n",
            "11/11 [==============================] - 0s 14ms/step - loss: 2.1714e-05 - accuracy: 1.0000 - val_loss: 0.3844 - val_accuracy: 0.9400\n",
            "Epoch 49/100\n",
            "11/11 [==============================] - 0s 14ms/step - loss: 1.8281e-05 - accuracy: 1.0000 - val_loss: 0.3868 - val_accuracy: 0.9300\n",
            "Epoch 50/100\n",
            "11/11 [==============================] - 0s 13ms/step - loss: 1.5632e-05 - accuracy: 1.0000 - val_loss: 0.3856 - val_accuracy: 0.9400\n",
            "Epoch 51/100\n",
            "11/11 [==============================] - 0s 14ms/step - loss: 1.4035e-05 - accuracy: 1.0000 - val_loss: 0.3957 - val_accuracy: 0.9300\n",
            "Epoch 52/100\n",
            "11/11 [==============================] - 0s 13ms/step - loss: 1.2768e-05 - accuracy: 1.0000 - val_loss: 0.3924 - val_accuracy: 0.9400\n",
            "Epoch 53/100\n",
            "11/11 [==============================] - 0s 14ms/step - loss: 1.1965e-05 - accuracy: 1.0000 - val_loss: 0.3993 - val_accuracy: 0.9300\n",
            "Epoch 54/100\n",
            "11/11 [==============================] - 0s 13ms/step - loss: 1.1157e-05 - accuracy: 1.0000 - val_loss: 0.3930 - val_accuracy: 0.9400\n",
            "Epoch 55/100\n",
            "11/11 [==============================] - 0s 13ms/step - loss: 1.0226e-05 - accuracy: 1.0000 - val_loss: 0.3969 - val_accuracy: 0.9300\n",
            "Epoch 56/100\n",
            "11/11 [==============================] - 0s 13ms/step - loss: 9.2587e-06 - accuracy: 1.0000 - val_loss: 0.4017 - val_accuracy: 0.9300\n",
            "Epoch 57/100\n",
            "11/11 [==============================] - 0s 12ms/step - loss: 8.5089e-06 - accuracy: 1.0000 - val_loss: 0.4117 - val_accuracy: 0.9300\n",
            "Epoch 58/100\n",
            "11/11 [==============================] - 0s 11ms/step - loss: 8.3435e-06 - accuracy: 1.0000 - val_loss: 0.4027 - val_accuracy: 0.9400\n",
            "Epoch 59/100\n",
            "11/11 [==============================] - 0s 12ms/step - loss: 7.6087e-06 - accuracy: 1.0000 - val_loss: 0.4077 - val_accuracy: 0.9300\n",
            "Epoch 60/100\n",
            "11/11 [==============================] - 0s 11ms/step - loss: 7.2987e-06 - accuracy: 1.0000 - val_loss: 0.4065 - val_accuracy: 0.9300\n",
            "Epoch 61/100\n",
            "11/11 [==============================] - 0s 12ms/step - loss: 6.9089e-06 - accuracy: 1.0000 - val_loss: 0.4063 - val_accuracy: 0.9400\n",
            "Epoch 62/100\n",
            "11/11 [==============================] - 0s 13ms/step - loss: 6.6345e-06 - accuracy: 1.0000 - val_loss: 0.4105 - val_accuracy: 0.9300\n",
            "Epoch 63/100\n",
            "11/11 [==============================] - 0s 13ms/step - loss: 6.2241e-06 - accuracy: 1.0000 - val_loss: 0.4114 - val_accuracy: 0.9300\n",
            "Epoch 64/100\n",
            "11/11 [==============================] - 0s 14ms/step - loss: 5.9415e-06 - accuracy: 1.0000 - val_loss: 0.4108 - val_accuracy: 0.9300\n",
            "Epoch 65/100\n",
            "11/11 [==============================] - 0s 13ms/step - loss: 5.7336e-06 - accuracy: 1.0000 - val_loss: 0.4124 - val_accuracy: 0.9300\n",
            "Epoch 66/100\n",
            "11/11 [==============================] - 0s 14ms/step - loss: 5.4616e-06 - accuracy: 1.0000 - val_loss: 0.4135 - val_accuracy: 0.9300\n",
            "Epoch 67/100\n",
            "11/11 [==============================] - 0s 13ms/step - loss: 5.1910e-06 - accuracy: 1.0000 - val_loss: 0.4123 - val_accuracy: 0.9300\n",
            "Epoch 68/100\n",
            "11/11 [==============================] - 0s 13ms/step - loss: 4.9584e-06 - accuracy: 1.0000 - val_loss: 0.4099 - val_accuracy: 0.9400\n",
            "Epoch 69/100\n",
            "11/11 [==============================] - 0s 13ms/step - loss: 4.8512e-06 - accuracy: 1.0000 - val_loss: 0.4132 - val_accuracy: 0.9400\n",
            "Epoch 70/100\n",
            "11/11 [==============================] - 0s 15ms/step - loss: 4.8307e-06 - accuracy: 1.0000 - val_loss: 0.4181 - val_accuracy: 0.9300\n",
            "Epoch 71/100\n",
            "11/11 [==============================] - 0s 13ms/step - loss: 4.4864e-06 - accuracy: 1.0000 - val_loss: 0.4173 - val_accuracy: 0.9300\n",
            "Epoch 72/100\n",
            "11/11 [==============================] - 0s 13ms/step - loss: 4.3696e-06 - accuracy: 1.0000 - val_loss: 0.4184 - val_accuracy: 0.9300\n",
            "Epoch 73/100\n",
            "11/11 [==============================] - 0s 13ms/step - loss: 4.2514e-06 - accuracy: 1.0000 - val_loss: 0.4184 - val_accuracy: 0.9300\n",
            "Epoch 74/100\n",
            "11/11 [==============================] - 0s 13ms/step - loss: 4.0527e-06 - accuracy: 1.0000 - val_loss: 0.4197 - val_accuracy: 0.9300\n",
            "Epoch 75/100\n",
            "11/11 [==============================] - 0s 13ms/step - loss: 4.0226e-06 - accuracy: 1.0000 - val_loss: 0.4196 - val_accuracy: 0.9300\n",
            "Epoch 76/100\n",
            "11/11 [==============================] - 0s 11ms/step - loss: 3.8325e-06 - accuracy: 1.0000 - val_loss: 0.4191 - val_accuracy: 0.9300\n",
            "Epoch 77/100\n",
            "11/11 [==============================] - 0s 15ms/step - loss: 3.7945e-06 - accuracy: 1.0000 - val_loss: 0.4212 - val_accuracy: 0.9300\n",
            "Epoch 78/100\n",
            "11/11 [==============================] - 0s 13ms/step - loss: 3.6715e-06 - accuracy: 1.0000 - val_loss: 0.4231 - val_accuracy: 0.9300\n",
            "Epoch 79/100\n",
            "11/11 [==============================] - 0s 17ms/step - loss: 3.5314e-06 - accuracy: 1.0000 - val_loss: 0.4232 - val_accuracy: 0.9300\n",
            "Epoch 80/100\n",
            "11/11 [==============================] - 0s 17ms/step - loss: 3.4451e-06 - accuracy: 1.0000 - val_loss: 0.4233 - val_accuracy: 0.9300\n",
            "Epoch 81/100\n",
            "11/11 [==============================] - 0s 20ms/step - loss: 3.3330e-06 - accuracy: 1.0000 - val_loss: 0.4244 - val_accuracy: 0.9300\n",
            "Epoch 82/100\n",
            "11/11 [==============================] - 0s 21ms/step - loss: 3.2649e-06 - accuracy: 1.0000 - val_loss: 0.4254 - val_accuracy: 0.9300\n",
            "Epoch 83/100\n",
            "11/11 [==============================] - 0s 19ms/step - loss: 3.1875e-06 - accuracy: 1.0000 - val_loss: 0.4268 - val_accuracy: 0.9300\n",
            "Epoch 84/100\n",
            "11/11 [==============================] - 0s 23ms/step - loss: 3.0799e-06 - accuracy: 1.0000 - val_loss: 0.4259 - val_accuracy: 0.9300\n",
            "Epoch 85/100\n",
            "11/11 [==============================] - 0s 21ms/step - loss: 3.0196e-06 - accuracy: 1.0000 - val_loss: 0.4299 - val_accuracy: 0.9300\n",
            "Epoch 86/100\n",
            "11/11 [==============================] - 0s 19ms/step - loss: 2.9871e-06 - accuracy: 1.0000 - val_loss: 0.4296 - val_accuracy: 0.9300\n",
            "Epoch 87/100\n",
            "11/11 [==============================] - 0s 23ms/step - loss: 2.8641e-06 - accuracy: 1.0000 - val_loss: 0.4282 - val_accuracy: 0.9300\n",
            "Epoch 88/100\n",
            "11/11 [==============================] - 0s 19ms/step - loss: 2.8117e-06 - accuracy: 1.0000 - val_loss: 0.4285 - val_accuracy: 0.9300\n",
            "Epoch 89/100\n",
            "11/11 [==============================] - 0s 19ms/step - loss: 2.7730e-06 - accuracy: 1.0000 - val_loss: 0.4316 - val_accuracy: 0.9300\n",
            "Epoch 90/100\n",
            "11/11 [==============================] - 0s 18ms/step - loss: 2.7106e-06 - accuracy: 1.0000 - val_loss: 0.4303 - val_accuracy: 0.9300\n",
            "Epoch 91/100\n",
            "11/11 [==============================] - 0s 19ms/step - loss: 2.6359e-06 - accuracy: 1.0000 - val_loss: 0.4321 - val_accuracy: 0.9300\n",
            "Epoch 92/100\n",
            "11/11 [==============================] - 0s 20ms/step - loss: 2.5798e-06 - accuracy: 1.0000 - val_loss: 0.4293 - val_accuracy: 0.9300\n",
            "Epoch 93/100\n",
            "11/11 [==============================] - 0s 18ms/step - loss: 2.5229e-06 - accuracy: 1.0000 - val_loss: 0.4309 - val_accuracy: 0.9300\n",
            "Epoch 94/100\n",
            "11/11 [==============================] - 0s 18ms/step - loss: 2.4784e-06 - accuracy: 1.0000 - val_loss: 0.4329 - val_accuracy: 0.9300\n",
            "Epoch 95/100\n",
            "11/11 [==============================] - 0s 19ms/step - loss: 2.4451e-06 - accuracy: 1.0000 - val_loss: 0.4321 - val_accuracy: 0.9300\n",
            "Epoch 96/100\n",
            "11/11 [==============================] - 0s 18ms/step - loss: 2.3838e-06 - accuracy: 1.0000 - val_loss: 0.4331 - val_accuracy: 0.9300\n",
            "Epoch 97/100\n",
            "11/11 [==============================] - 0s 22ms/step - loss: 2.3256e-06 - accuracy: 1.0000 - val_loss: 0.4333 - val_accuracy: 0.9300\n",
            "Epoch 98/100\n",
            "11/11 [==============================] - 0s 20ms/step - loss: 2.2841e-06 - accuracy: 1.0000 - val_loss: 0.4337 - val_accuracy: 0.9300\n",
            "Epoch 99/100\n",
            "11/11 [==============================] - 0s 26ms/step - loss: 2.2513e-06 - accuracy: 1.0000 - val_loss: 0.4338 - val_accuracy: 0.9300\n",
            "Epoch 100/100\n",
            "11/11 [==============================] - 0s 16ms/step - loss: 2.2208e-06 - accuracy: 1.0000 - val_loss: 0.4346 - val_accuracy: 0.9300\n"
          ]
        }
      ]
    },
    {
      "cell_type": "code",
      "source": [
        "\n",
        "\n",
        "#plot the training and validation accuracy and loss at each epoch\n",
        "loss = history.history['loss']\n",
        "val_loss = history.history['val_loss']\n",
        "\n",
        "epochs = range(1, len(loss) + 1)\n",
        "\n",
        "plt.plot(epochs, loss, 'co', label='Training loss')\n",
        "plt.plot(epochs, val_loss, 'k-', label='Validation loss')\n",
        "#plt.title('Training and Validation loss')\n",
        "plt.xlabel('Epochs',fontsize=\"14\")\n",
        "plt.ylabel('Loss',fontsize=\"14\")\n",
        "#plt.xlim(0,20)\n",
        "plt.legend()\n",
        "plt.show()"
      ],
      "metadata": {
        "colab": {
          "base_uri": "https://localhost:8080/",
          "height": 283
        },
        "id": "fssbZxOSpmmz",
        "outputId": "9660b4b9-a34f-4372-d740-441359b4a5c4"
      },
      "execution_count": null,
      "outputs": [
        {
          "output_type": "display_data",
          "data": {
            "text/plain": [
              "<Figure size 432x288 with 1 Axes>"
            ],
            "image/png": "[encoded data removed]"
          },
          "metadata": {
            "needs_background": "light"
          }
        }
      ]
    },
    {
      "cell_type": "code",
      "source": [
        "##Plotting the training and validation accuracy\n",
        "acc = history.history['accuracy']\n",
        "val_acc = history.history['val_accuracy']\n",
        "\n",
        "plt.plot(epochs, acc, 'co', label='Training acc')\n",
        "plt.plot(epochs, val_acc, 'k', label='Validation acc')\n",
        "#plt.title('Training and Validation accuracy')\n",
        "plt.xlabel('Epochs',fontsize=\"14\")\n",
        "plt.ylabel('Accuracy',fontsize=\"14\")\n",
        "plt.legend()\n",
        "plt.show()\n"
      ],
      "metadata": {
        "colab": {
          "base_uri": "https://localhost:8080/",
          "height": 283
        },
        "id": "8rB5EPYtpqk4",
        "outputId": "bbe09ae2-ebfb-4956-e1a2-d2544c5a3227"
      },
      "execution_count": null,
      "outputs": [
        {
          "output_type": "display_data",
          "data": {
            "text/plain": [
              "<Figure size 432x288 with 1 Axes>"
            ],
            "image/png": "[encoded data removed]"
          },
          "metadata": {
            "needs_background": "light"
          }
        }
      ]
    },
    {
      "cell_type": "code",
      "source": [
        "#de-encode to normal labels\n",
        "#model =  build_model()\n",
        "prediction_NN = model.predict(x_test)\n",
        "prediction_NN = np.argmax(prediction_NN, axis=-1)\n",
        "prediction_NN = le.inverse_transform(prediction_NN)\n",
        "\n",
        "#Confusion Matrix - verify accuracy of each class\n",
        "from sklearn.metrics import confusion_matrix\n",
        "cm = confusion_matrix(y_test, prediction_NN)\n",
        "print(cm)\n",
        "#sns.heatmap(cm, annot=True, cmap=\"YlGnBu\", xticklabels=['Bidirectional','Spinning','Wandering'], yticklabels=['Bidirectional','Spinning','Wandering'])\n",
        "\n"
      ],
      "metadata": {
        "colab": {
          "base_uri": "https://localhost:8080/"
        },
        "id": "OcCqzEuwpwvt",
        "outputId": "1514ba62-365c-46cc-ca5a-69994e0f64f4"
      },
      "execution_count": null,
      "outputs": [
        {
          "output_type": "stream",
          "name": "stdout",
          "text": [
            "4/4 [==============================] - 0s 6ms/step\n",
            "[[29  3  0]\n",
            " [ 7 52  1]\n",
            " [ 0  1 19]]\n"
          ]
        }
      ]
    },
    {
      "cell_type": "code",
      "source": [
        "sns.heatmap(np.round(cm*100/np.sum(cm, axis=1, keepdims=True)), annot=True, cmap=\"Blues\", xticklabels=['M2','M0','M1'], yticklabels=['M2','M0','M1'])\n"
      ],
      "metadata": {
        "colab": {
          "base_uri": "https://localhost:8080/",
          "height": 282
        },
        "id": "oj1rxNVG72CC",
        "outputId": "e6727480-7e3e-4cb1-cf87-81c74faf4c09"
      },
      "execution_count": null,
      "outputs": [
        {
          "output_type": "execute_result",
          "data": {
            "text/plain": [
              "<AxesSubplot:>"
            ]
          },
          "metadata": {},
          "execution_count": 95
        },
        {
          "output_type": "display_data",
          "data": {
            "text/plain": [
              "<Figure size 432x288 with 2 Axes>"
            ],
            "image/png": "[encoded data removed]"
          },
          "metadata": {
            "needs_background": "light"
          }
        }
      ]
    },
    {
      "cell_type": "code",
      "source": [
        "\n",
        "from sklearn.metrics import accuracy_score\n",
        "accuracy_score(y_test, prediction_NN, normalize=False)\n",
        "\n",
        "print(prediction_NN)"
      ],
      "metadata": {
        "colab": {
          "base_uri": "https://localhost:8080/"
        },
        "id": "tn9az_Q8pzVb",
        "outputId": "7f1bfefc-f973-498b-97bc-067ee49fb94f"
      },
      "execution_count": null,
      "outputs": [
        {
          "output_type": "stream",
          "name": "stdout",
          "text": [
            "['Spinning' 'Spinning' 'Wandering' 'Spinning' 'Spinning' 'Spinning'\n",
            " 'Wandering' 'Bidirectional' 'Spinning' 'Spinning' 'Spinning' 'Spinning'\n",
            " 'Bidirectional' 'Spinning' 'Bidirectional' 'Bidirectional' 'Spinning'\n",
            " 'Bidirectional' 'Spinning' 'Spinning' 'Spinning' 'Spinning' 'Spinning'\n",
            " 'Spinning' 'Spinning' 'Bidirectional' 'Wandering' 'Bidirectional'\n",
            " 'Spinning' 'Bidirectional' 'Spinning' 'Spinning' 'Wandering' 'Spinning'\n",
            " 'Spinning' 'Bidirectional' 'Bidirectional' 'Bidirectional' 'Spinning'\n",
            " 'Spinning' 'Wandering' 'Bidirectional' 'Bidirectional' 'Spinning'\n",
            " 'Spinning' 'Bidirectional' 'Bidirectional' 'Wandering' 'Bidirectional'\n",
            " 'Spinning' 'Spinning' 'Spinning' 'Spinning' 'Wandering' 'Spinning'\n",
            " 'Wandering' 'Bidirectional' 'Bidirectional' 'Wandering' 'Bidirectional'\n",
            " 'Spinning' 'Bidirectional' 'Wandering' 'Spinning' 'Spinning' 'Wandering'\n",
            " 'Spinning' 'Spinning' 'Spinning' 'Spinning' 'Bidirectional' 'Wandering'\n",
            " 'Spinning' 'Spinning' 'Spinning' 'Bidirectional' 'Bidirectional'\n",
            " 'Bidirectional' 'Spinning' 'Wandering' 'Spinning' 'Wandering' 'Spinning'\n",
            " 'Wandering' 'Spinning' 'Bidirectional' 'Wandering' 'Spinning' 'Spinning'\n",
            " 'Spinning' 'Spinning' 'Bidirectional' 'Wandering' 'Spinning' 'Spinning'\n",
            " 'Bidirectional' 'Spinning' 'Bidirectional' 'Bidirectional' 'Wandering'\n",
            " 'Bidirectional' 'Wandering' 'Spinning' 'Bidirectional' 'Spinning'\n",
            " 'Bidirectional' 'Wandering' 'Bidirectional' 'Bidirectional'\n",
            " 'Bidirectional' 'Bidirectional' 'Spinning']\n"
          ]
        }
      ]
    },
    {
      "cell_type": "code",
      "source": [
        "\n",
        "def smooth_curve(points, factor=0.9):\n",
        "    smoothed_points = []\n",
        "    for point in points:\n",
        "        if smoothed_points:\n",
        "            previous = smoothed_points[-1]\n",
        "            smoothed_points.append(previous * factor + point * (1 - factor))\n",
        "        else:\n",
        "            smoothed_points.append(point)\n",
        "    return smoothed_points"
      ],
      "metadata": {
        "id": "qyazIF_DqOER"
      },
      "execution_count": null,
      "outputs": []
    },
    {
      "cell_type": "code",
      "source": [
        "smooth_loss_hist = smooth_curve(loss)\n",
        "smooth_val_loss_hist = smooth_curve(val_loss)\n",
        "plt.plot(range(1, len(smooth_loss_hist) + 1), smooth_loss_hist, 'c-', label='Training loss')\n",
        "plt.plot(range(1, len(smooth_val_loss_hist) + 1), smooth_val_loss_hist, 'purple', label='Validation loss')\n",
        "plt.title('Training and Validation loss')\n",
        "plt.xlabel('Epochs')\n",
        "plt.ylabel('Loss')\n",
        "plt.legend()\n",
        "plt.show()"
      ],
      "metadata": {
        "colab": {
          "base_uri": "https://localhost:8080/",
          "height": 295
        },
        "id": "d6hjNSjiqPSu",
        "outputId": "c4edc748-040f-4a95-9169-821c0c2146dd"
      },
      "execution_count": null,
      "outputs": [
        {
          "output_type": "display_data",
          "data": {
            "text/plain": [
              "<Figure size 432x288 with 1 Axes>"
            ],
            "image/png": "[encoded data removed]"
          },
          "metadata": {
            "needs_background": "light"
          }
        }
      ]
    },
    {
      "cell_type": "code",
      "source": [
        "smooth_acc_hist = smooth_curve(acc)\n",
        "smooth_val_acc_hist = smooth_curve(val_acc)\n",
        "plt.plot(range(1, len(smooth_acc_hist) + 1), smooth_acc_hist, 'c-', label='Training acc')\n",
        "plt.plot(range(1, len(smooth_val_acc_hist) + 1), smooth_val_acc_hist, 'purple', label='Validation acc')\n",
        "plt.title('Training and Validation accuracy')\n",
        "plt.xlabel('Epochs')\n",
        "plt.ylabel('Accuracy')\n",
        "plt.legend()\n",
        "plt.show()"
      ],
      "metadata": {
        "colab": {
          "base_uri": "https://localhost:8080/",
          "height": 295
        },
        "id": "HFSoA_k3qYKj",
        "outputId": "13a1bc73-50ed-4fa5-a271-0cd07a18dffb"
      },
      "execution_count": null,
      "outputs": [
        {
          "output_type": "display_data",
          "data": {
            "text/plain": [
              "<Figure size 432x288 with 1 Axes>"
            ],
            "image/png": "[encoded data removed]"
          },
          "metadata": {
            "needs_background": "light"
          }
        }
      ]
    }
  ]
}